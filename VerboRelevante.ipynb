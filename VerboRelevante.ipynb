{
  "nbformat": 4,
  "nbformat_minor": 0,
  "metadata": {
    "colab": {
      "provenance": [],
      "authorship_tag": "ABX9TyONtJ1iO8+uBdTO4/LjHyBx",
      "include_colab_link": true
    },
    "kernelspec": {
      "name": "python3",
      "display_name": "Python 3"
    },
    "language_info": {
      "name": "python"
    }
  },
  "cells": [
    {
      "cell_type": "markdown",
      "metadata": {
        "id": "view-in-github",
        "colab_type": "text"
      },
      "source": [
        "<a href=\"https://colab.research.google.com/github/Davidgoca/ViewBible/blob/main/VerboRelevante.ipynb\" target=\"_parent\"><img src=\"https://colab.research.google.com/assets/colab-badge.svg\" alt=\"Open In Colab\"/></a>"
      ]
    },
    {
      "cell_type": "code",
      "execution_count": null,
      "metadata": {
        "id": "4rjmHSXFvYCf"
      },
      "outputs": [],
      "source": [
        "!pip install spacy"
      ]
    },
    {
      "cell_type": "code",
      "source": [
        "!python -m spacy download es_core_news_sm"
      ],
      "metadata": {
        "id": "eTbGQgbcvmVt"
      },
      "execution_count": null,
      "outputs": []
    },
    {
      "cell_type": "code",
      "source": [
        "import spacy\n",
        "nlp = spacy.load('es_core_news_sm')\n",
        "doc = nlp(u'Yo vole a LA. Ahora quiero volar a Frisco')\n",
        "print(\"Verbos:\",[w.text for w in doc if w.pos_ == 'VERB'])\n",
        "\n",
        "# Buscar nombres propios\n",
        "proper_nouns = [w.text for w in doc if w.text.lower() == 'la' or w.pos_ in ['PROPN']]\n",
        "print(\"Nombres propios:\", proper_nouns)\n"
      ],
      "metadata": {
        "colab": {
          "base_uri": "https://localhost:8080/"
        },
        "id": "_hhpuV9cvnuM",
        "outputId": "fc487534-f823-4b97-aa51-51539e2f8b99"
      },
      "execution_count": 19,
      "outputs": [
        {
          "output_type": "stream",
          "name": "stdout",
          "text": [
            "Verbos: ['vole', 'quiero', 'volar']\n",
            "Nombres propios: ['LA', 'Frisco']\n"
          ]
        }
      ]
    }
  ]
}