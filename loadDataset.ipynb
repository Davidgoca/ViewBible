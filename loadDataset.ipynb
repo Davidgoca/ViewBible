{
  "nbformat": 4,
  "nbformat_minor": 0,
  "metadata": {
    "colab": {
      "provenance": [],
      "authorship_tag": "ABX9TyNbyEtM92MHu6DT3nDLupQQ",
      "include_colab_link": true
    },
    "kernelspec": {
      "name": "python3",
      "display_name": "Python 3"
    },
    "language_info": {
      "name": "python"
    }
  },
  "cells": [
    {
      "cell_type": "markdown",
      "metadata": {
        "id": "view-in-github",
        "colab_type": "text"
      },
      "source": [
        "<a href=\"https://colab.research.google.com/github/Davidgoca/ViewBible/blob/main/loadDataset.ipynb\" target=\"_parent\"><img src=\"https://colab.research.google.com/assets/colab-badge.svg\" alt=\"Open In Colab\"/></a>"
      ]
    },
    {
      "cell_type": "code",
      "execution_count": null,
      "metadata": {
        "id": "mZBMDja2whj2"
      },
      "outputs": [],
      "source": [
        "!git clone https://github.com/Davidgoca/biblia-reina-valera-1909-base-datos-sql\n",
        "\n",
        "import sqlite3\n",
        "\n",
        "# Conectar a la base de datos\n",
        "conn = sqlite3.connect('/content/biblia-reina-valera-1909-base-datos-sql/reina_valera_1909.db')\n",
        "\n",
        "# Crear un cursor\n",
        "cursor = conn.cursor()\n",
        "\n",
        "# Ejecutar una consulta para los primeros 20 versículos\n",
        "cursor.execute('SELECT * FROM verses LIMIT 20')\n",
        "result = cursor.fetchall()\n",
        "\n",
        "# Imprimir los resultados\n",
        "for row in result:\n",
        "    print(row)\n",
        "\n",
        "# Ejecutar una consulta para los primeros 20 libros\n",
        "cursor.execute('SELECT * FROM books LIMIT 20')\n",
        "result = cursor.fetchall()\n",
        "\n",
        "# Imprimir los resultados\n",
        "for row in result:\n",
        "    print(row)\n",
        "\n",
        "# Cerrar la conexión\n",
        "conn.close()\n"
      ]
    }
  ]
}