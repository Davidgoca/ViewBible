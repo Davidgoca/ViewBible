{
  "nbformat": 4,
  "nbformat_minor": 0,
  "metadata": {
    "colab": {
      "provenance": [],
      "authorship_tag": "ABX9TyNGho8+Jggs+0an3RZrKJfx",
      "include_colab_link": true
    },
    "kernelspec": {
      "name": "python3",
      "display_name": "Python 3"
    },
    "language_info": {
      "name": "python"
    }
  },
  "cells": [
    {
      "cell_type": "markdown",
      "metadata": {
        "id": "view-in-github",
        "colab_type": "text"
      },
      "source": [
        "<a href=\"https://colab.research.google.com/github/Davidgoca/ViewBible/blob/main/TextosbiblicosText.ipynb\" target=\"_parent\"><img src=\"https://colab.research.google.com/assets/colab-badge.svg\" alt=\"Open In Colab\"/></a>"
      ]
    },
    {
      "cell_type": "code",
      "execution_count": 1,
      "metadata": {
        "colab": {
          "base_uri": "https://localhost:8080/"
        },
        "id": "NCq3BRSvgGWK",
        "outputId": "14919e6d-5f28-4142-9d20-a4b5c1feaf89"
      },
      "outputs": [
        {
          "output_type": "stream",
          "name": "stdout",
          "text": [
            "#title Proverbios\n",
            "#description Descripcion\n",
            "#abbreviation 20_Pr_RVR60\n",
            "1:1 Los proverbios de Salomón, hijo de David, rey de Israel. \n",
            "1:2 Para entender sabiduría y doctrina, Para conocer razones prudentes, \n",
            "1:3 Para recibir el consejo de prudencia, Justicia, juicio y equidad; \n",
            "1:4 Para dar sagacidad a los simples, Y a los jóvenes inteligencia y cordura. \n",
            "1:5 Oirá el sabio, y aumentará el saber, Y el entendido adquirirá consejo, \n",
            "1:6 Para entender proverbio y declaración, Palabras de sabios, y sus d\n"
          ]
        }
      ],
      "source": [
        "import requests\n",
        "\n",
        "# URL del archivo de texto en GitHub\n",
        "url = 'https://raw.githubusercontent.com/llromerorr/TextosBiblicos/master/RVR60/20_Pr_RVR60.txt'\n",
        "\n",
        "# Realiza una solicitud GET para obtener el contenido del archivo\n",
        "response = requests.get(url)\n",
        "\n",
        "# Verifica si la solicitud fue exitosa (código de estado 200)\n",
        "if response.status_code == 200:\n",
        "    # Lee el contenido del archivo como una cadena de texto\n",
        "    content = response.text\n",
        "\n",
        "    # Muestra las primeras 500 caracteres del contenido\n",
        "    print(content[:500])\n",
        "else:\n",
        "    # Muestra un mensaje si la solicitud no fue exitosa\n",
        "    print(f\"Error al obtener el archivo. Código de estado: {response.status_code}\")\n"
      ]
    }
  ]
}