{
  "nbformat": 4,
  "nbformat_minor": 0,
  "metadata": {
    "colab": {
      "provenance": [],
      "authorship_tag": "ABX9TyPbMq+4o77I04WRibx9bs1P",
      "include_colab_link": true
    },
    "kernelspec": {
      "name": "python3",
      "display_name": "Python 3"
    },
    "language_info": {
      "name": "python"
    }
  },
  "cells": [
    {
      "cell_type": "markdown",
      "metadata": {
        "id": "view-in-github",
        "colab_type": "text"
      },
      "source": [
        "<a href=\"https://colab.research.google.com/github/Davidgoca/ViewBible/blob/main/ejemploPersonajesEventos.ipynb\" target=\"_parent\"><img src=\"https://colab.research.google.com/assets/colab-badge.svg\" alt=\"Open In Colab\"/></a>"
      ]
    },
    {
      "cell_type": "markdown",
      "source": [
        "Crear un programa de Procesamiento del Lenguaje Natural (NLP) para construir la cronología de personajes y eventos de la Biblia puede ser un proyecto interesante y desafiante. Aquí proporcionaré un esquema básico utilizando la biblioteca spaCy en Python, que es una herramienta de procesamiento de lenguaje natural.\n",
        "\n",
        "1. **Instala spaCy:**\n",
        "   Asegúrate de tener spaCy instalado en tu entorno de Python. Puedes instalarlo con el siguiente comando:\n",
        "\n",
        "   ```bash\n",
        "   pip install spacy\n",
        "   ```\n",
        "\n",
        "   Luego, descarga el modelo en español (o en el idioma que prefieras). En este caso, usaremos el modelo en español:\n",
        "\n",
        "   ```bash\n",
        "   python -m spacy download es_core_news_sm\n",
        "   ```\n",
        "\n",
        "2. **Crea el programa:**\n",
        "   Aquí hay un ejemplo simple que utiliza spaCy para analizar texto y extraer información relevante:\n",
        "\n",
        "   ```python\n",
        "   import spacy\n",
        "\n",
        "   # Carga el modelo en español\n",
        "   nlp = spacy.load(\"es_core_news_sm\")\n",
        "\n",
        "   def extraer_eventos(texto):\n",
        "       # Procesa el texto con spaCy\n",
        "       doc = nlp(texto)\n",
        "\n",
        "       # Almacena eventos y personajes\n",
        "       eventos = []\n",
        "       personajes = set()\n",
        "\n",
        "       # Itera sobre las entidades reconocidas\n",
        "       for entidad in doc.ents:\n",
        "           if entidad.label_ == \"EVENTO\":\n",
        "               eventos.append(entidad.text)\n",
        "           elif entidad.label_ == \"PERSONAJE\":\n",
        "               personajes.add(entidad.text)\n",
        "\n",
        "       return eventos, list(personajes)\n",
        "\n",
        "   # Ejemplo de texto (puedes proporcionar tu propio texto)\n",
        "   texto_biblia = \"\"\"\n",
        "   En el principio, Dios creó los cielos y la tierra. Y dijo Dios: \"Hágase la luz\".\n",
        "   Abraham salió de Ur de los Caldeos y se dirigió a Canaán. En Canaán, nació Isaac,\n",
        "   quien más tarde se casó con Rebeca. El diluvio ocurrió en los días de Noé, etc.\n",
        "   \"\"\"\n",
        "\n",
        "   # Llamada a la función para extraer eventos y personajes\n",
        "   eventos, personajes = extraer_eventos(texto_biblia)\n",
        "\n",
        "   # Imprime los resultados\n",
        "   print(\"Eventos:\")\n",
        "   for evento in eventos:\n",
        "       print(f\"- {evento}\")\n",
        "\n",
        "   print(\"\\nPersonajes:\")\n",
        "   for personaje in personajes:\n",
        "       print(f\"- {personaje}\")\n",
        "   ```\n",
        "\n",
        "   Este ejemplo es bastante simple y puede necesitar ajustes según tus necesidades específicas. También puedes utilizar modelos más grandes de spaCy si tu análisis requiere mayor precisión. Además, podrías considerar la creación de un modelo personalizado para entrenar spaCy con datos específicos de la Biblia si es necesario."
      ],
      "metadata": {
        "id": "fBq9V5nq5pPI"
      }
    },
    {
      "cell_type": "markdown",
      "source": [],
      "metadata": {
        "id": "4gODxLjB5lJ1"
      }
    },
    {
      "cell_type": "code",
      "source": [
        "pip install spacy\n"
      ],
      "metadata": {
        "colab": {
          "base_uri": "https://localhost:8080/"
        },
        "id": "DP0oYgHw6M8R",
        "outputId": "091f8336-1cf2-4143-bb01-2c11b9686530"
      },
      "execution_count": 3,
      "outputs": [
        {
          "output_type": "stream",
          "name": "stdout",
          "text": [
            "Requirement already satisfied: spacy in /usr/local/lib/python3.10/dist-packages (3.6.1)\n",
            "Requirement already satisfied: spacy-legacy<3.1.0,>=3.0.11 in /usr/local/lib/python3.10/dist-packages (from spacy) (3.0.12)\n",
            "Requirement already satisfied: spacy-loggers<2.0.0,>=1.0.0 in /usr/local/lib/python3.10/dist-packages (from spacy) (1.0.5)\n",
            "Requirement already satisfied: murmurhash<1.1.0,>=0.28.0 in /usr/local/lib/python3.10/dist-packages (from spacy) (1.0.10)\n",
            "Requirement already satisfied: cymem<2.1.0,>=2.0.2 in /usr/local/lib/python3.10/dist-packages (from spacy) (2.0.8)\n",
            "Requirement already satisfied: preshed<3.1.0,>=3.0.2 in /usr/local/lib/python3.10/dist-packages (from spacy) (3.0.9)\n",
            "Requirement already satisfied: thinc<8.2.0,>=8.1.8 in /usr/local/lib/python3.10/dist-packages (from spacy) (8.1.12)\n",
            "Requirement already satisfied: wasabi<1.2.0,>=0.9.1 in /usr/local/lib/python3.10/dist-packages (from spacy) (1.1.2)\n",
            "Requirement already satisfied: srsly<3.0.0,>=2.4.3 in /usr/local/lib/python3.10/dist-packages (from spacy) (2.4.8)\n",
            "Requirement already satisfied: catalogue<2.1.0,>=2.0.6 in /usr/local/lib/python3.10/dist-packages (from spacy) (2.0.10)\n",
            "Requirement already satisfied: typer<0.10.0,>=0.3.0 in /usr/local/lib/python3.10/dist-packages (from spacy) (0.9.0)\n",
            "Requirement already satisfied: pathy>=0.10.0 in /usr/local/lib/python3.10/dist-packages (from spacy) (0.10.3)\n",
            "Requirement already satisfied: smart-open<7.0.0,>=5.2.1 in /usr/local/lib/python3.10/dist-packages (from spacy) (6.4.0)\n",
            "Requirement already satisfied: tqdm<5.0.0,>=4.38.0 in /usr/local/lib/python3.10/dist-packages (from spacy) (4.66.1)\n",
            "Requirement already satisfied: numpy>=1.15.0 in /usr/local/lib/python3.10/dist-packages (from spacy) (1.23.5)\n",
            "Requirement already satisfied: requests<3.0.0,>=2.13.0 in /usr/local/lib/python3.10/dist-packages (from spacy) (2.31.0)\n",
            "Requirement already satisfied: pydantic!=1.8,!=1.8.1,<3.0.0,>=1.7.4 in /usr/local/lib/python3.10/dist-packages (from spacy) (1.10.13)\n",
            "Requirement already satisfied: jinja2 in /usr/local/lib/python3.10/dist-packages (from spacy) (3.1.2)\n",
            "Requirement already satisfied: setuptools in /usr/local/lib/python3.10/dist-packages (from spacy) (67.7.2)\n",
            "Requirement already satisfied: packaging>=20.0 in /usr/local/lib/python3.10/dist-packages (from spacy) (23.2)\n",
            "Requirement already satisfied: langcodes<4.0.0,>=3.2.0 in /usr/local/lib/python3.10/dist-packages (from spacy) (3.3.0)\n",
            "Requirement already satisfied: typing-extensions>=4.2.0 in /usr/local/lib/python3.10/dist-packages (from pydantic!=1.8,!=1.8.1,<3.0.0,>=1.7.4->spacy) (4.5.0)\n",
            "Requirement already satisfied: charset-normalizer<4,>=2 in /usr/local/lib/python3.10/dist-packages (from requests<3.0.0,>=2.13.0->spacy) (3.3.2)\n",
            "Requirement already satisfied: idna<4,>=2.5 in /usr/local/lib/python3.10/dist-packages (from requests<3.0.0,>=2.13.0->spacy) (3.6)\n",
            "Requirement already satisfied: urllib3<3,>=1.21.1 in /usr/local/lib/python3.10/dist-packages (from requests<3.0.0,>=2.13.0->spacy) (2.0.7)\n",
            "Requirement already satisfied: certifi>=2017.4.17 in /usr/local/lib/python3.10/dist-packages (from requests<3.0.0,>=2.13.0->spacy) (2023.11.17)\n",
            "Requirement already satisfied: blis<0.8.0,>=0.7.8 in /usr/local/lib/python3.10/dist-packages (from thinc<8.2.0,>=8.1.8->spacy) (0.7.11)\n",
            "Requirement already satisfied: confection<1.0.0,>=0.0.1 in /usr/local/lib/python3.10/dist-packages (from thinc<8.2.0,>=8.1.8->spacy) (0.1.4)\n",
            "Requirement already satisfied: click<9.0.0,>=7.1.1 in /usr/local/lib/python3.10/dist-packages (from typer<0.10.0,>=0.3.0->spacy) (8.1.7)\n",
            "Requirement already satisfied: MarkupSafe>=2.0 in /usr/local/lib/python3.10/dist-packages (from jinja2->spacy) (2.1.3)\n"
          ]
        }
      ]
    },
    {
      "cell_type": "code",
      "source": [
        "!python -m spacy download es_core_news_sm"
      ],
      "metadata": {
        "colab": {
          "base_uri": "https://localhost:8080/"
        },
        "id": "6O9EbhCY7bBT",
        "outputId": "e9190552-fdb5-49f0-dc88-ee6f6a3c0007"
      },
      "execution_count": 5,
      "outputs": [
        {
          "output_type": "stream",
          "name": "stdout",
          "text": [
            "2024-01-11 05:13:27.665164: E external/local_xla/xla/stream_executor/cuda/cuda_dnn.cc:9261] Unable to register cuDNN factory: Attempting to register factory for plugin cuDNN when one has already been registered\n",
            "2024-01-11 05:13:27.665238: E external/local_xla/xla/stream_executor/cuda/cuda_fft.cc:607] Unable to register cuFFT factory: Attempting to register factory for plugin cuFFT when one has already been registered\n",
            "2024-01-11 05:13:27.667033: E external/local_xla/xla/stream_executor/cuda/cuda_blas.cc:1515] Unable to register cuBLAS factory: Attempting to register factory for plugin cuBLAS when one has already been registered\n",
            "2024-01-11 05:13:29.433028: W tensorflow/compiler/tf2tensorrt/utils/py_utils.cc:38] TF-TRT Warning: Could not find TensorRT\n",
            "Collecting es-core-news-sm==3.6.0\n",
            "  Downloading https://github.com/explosion/spacy-models/releases/download/es_core_news_sm-3.6.0/es_core_news_sm-3.6.0-py3-none-any.whl (12.9 MB)\n",
            "\u001b[2K     \u001b[90m━━━━━━━━━━━━━━━━━━━━━━━━━━━━━━━━━━━━━━━━\u001b[0m \u001b[32m12.9/12.9 MB\u001b[0m \u001b[31m16.2 MB/s\u001b[0m eta \u001b[36m0:00:00\u001b[0m\n",
            "\u001b[?25hRequirement already satisfied: spacy<3.7.0,>=3.6.0 in /usr/local/lib/python3.10/dist-packages (from es-core-news-sm==3.6.0) (3.6.1)\n",
            "Requirement already satisfied: spacy-legacy<3.1.0,>=3.0.11 in /usr/local/lib/python3.10/dist-packages (from spacy<3.7.0,>=3.6.0->es-core-news-sm==3.6.0) (3.0.12)\n",
            "Requirement already satisfied: spacy-loggers<2.0.0,>=1.0.0 in /usr/local/lib/python3.10/dist-packages (from spacy<3.7.0,>=3.6.0->es-core-news-sm==3.6.0) (1.0.5)\n",
            "Requirement already satisfied: murmurhash<1.1.0,>=0.28.0 in /usr/local/lib/python3.10/dist-packages (from spacy<3.7.0,>=3.6.0->es-core-news-sm==3.6.0) (1.0.10)\n",
            "Requirement already satisfied: cymem<2.1.0,>=2.0.2 in /usr/local/lib/python3.10/dist-packages (from spacy<3.7.0,>=3.6.0->es-core-news-sm==3.6.0) (2.0.8)\n",
            "Requirement already satisfied: preshed<3.1.0,>=3.0.2 in /usr/local/lib/python3.10/dist-packages (from spacy<3.7.0,>=3.6.0->es-core-news-sm==3.6.0) (3.0.9)\n",
            "Requirement already satisfied: thinc<8.2.0,>=8.1.8 in /usr/local/lib/python3.10/dist-packages (from spacy<3.7.0,>=3.6.0->es-core-news-sm==3.6.0) (8.1.12)\n",
            "Requirement already satisfied: wasabi<1.2.0,>=0.9.1 in /usr/local/lib/python3.10/dist-packages (from spacy<3.7.0,>=3.6.0->es-core-news-sm==3.6.0) (1.1.2)\n",
            "Requirement already satisfied: srsly<3.0.0,>=2.4.3 in /usr/local/lib/python3.10/dist-packages (from spacy<3.7.0,>=3.6.0->es-core-news-sm==3.6.0) (2.4.8)\n",
            "Requirement already satisfied: catalogue<2.1.0,>=2.0.6 in /usr/local/lib/python3.10/dist-packages (from spacy<3.7.0,>=3.6.0->es-core-news-sm==3.6.0) (2.0.10)\n",
            "Requirement already satisfied: typer<0.10.0,>=0.3.0 in /usr/local/lib/python3.10/dist-packages (from spacy<3.7.0,>=3.6.0->es-core-news-sm==3.6.0) (0.9.0)\n",
            "Requirement already satisfied: pathy>=0.10.0 in /usr/local/lib/python3.10/dist-packages (from spacy<3.7.0,>=3.6.0->es-core-news-sm==3.6.0) (0.10.3)\n",
            "Requirement already satisfied: smart-open<7.0.0,>=5.2.1 in /usr/local/lib/python3.10/dist-packages (from spacy<3.7.0,>=3.6.0->es-core-news-sm==3.6.0) (6.4.0)\n",
            "Requirement already satisfied: tqdm<5.0.0,>=4.38.0 in /usr/local/lib/python3.10/dist-packages (from spacy<3.7.0,>=3.6.0->es-core-news-sm==3.6.0) (4.66.1)\n",
            "Requirement already satisfied: numpy>=1.15.0 in /usr/local/lib/python3.10/dist-packages (from spacy<3.7.0,>=3.6.0->es-core-news-sm==3.6.0) (1.23.5)\n",
            "Requirement already satisfied: requests<3.0.0,>=2.13.0 in /usr/local/lib/python3.10/dist-packages (from spacy<3.7.0,>=3.6.0->es-core-news-sm==3.6.0) (2.31.0)\n",
            "Requirement already satisfied: pydantic!=1.8,!=1.8.1,<3.0.0,>=1.7.4 in /usr/local/lib/python3.10/dist-packages (from spacy<3.7.0,>=3.6.0->es-core-news-sm==3.6.0) (1.10.13)\n",
            "Requirement already satisfied: jinja2 in /usr/local/lib/python3.10/dist-packages (from spacy<3.7.0,>=3.6.0->es-core-news-sm==3.6.0) (3.1.2)\n",
            "Requirement already satisfied: setuptools in /usr/local/lib/python3.10/dist-packages (from spacy<3.7.0,>=3.6.0->es-core-news-sm==3.6.0) (67.7.2)\n",
            "Requirement already satisfied: packaging>=20.0 in /usr/local/lib/python3.10/dist-packages (from spacy<3.7.0,>=3.6.0->es-core-news-sm==3.6.0) (23.2)\n",
            "Requirement already satisfied: langcodes<4.0.0,>=3.2.0 in /usr/local/lib/python3.10/dist-packages (from spacy<3.7.0,>=3.6.0->es-core-news-sm==3.6.0) (3.3.0)\n",
            "Requirement already satisfied: typing-extensions>=4.2.0 in /usr/local/lib/python3.10/dist-packages (from pydantic!=1.8,!=1.8.1,<3.0.0,>=1.7.4->spacy<3.7.0,>=3.6.0->es-core-news-sm==3.6.0) (4.5.0)\n",
            "Requirement already satisfied: charset-normalizer<4,>=2 in /usr/local/lib/python3.10/dist-packages (from requests<3.0.0,>=2.13.0->spacy<3.7.0,>=3.6.0->es-core-news-sm==3.6.0) (3.3.2)\n",
            "Requirement already satisfied: idna<4,>=2.5 in /usr/local/lib/python3.10/dist-packages (from requests<3.0.0,>=2.13.0->spacy<3.7.0,>=3.6.0->es-core-news-sm==3.6.0) (3.6)\n",
            "Requirement already satisfied: urllib3<3,>=1.21.1 in /usr/local/lib/python3.10/dist-packages (from requests<3.0.0,>=2.13.0->spacy<3.7.0,>=3.6.0->es-core-news-sm==3.6.0) (2.0.7)\n",
            "Requirement already satisfied: certifi>=2017.4.17 in /usr/local/lib/python3.10/dist-packages (from requests<3.0.0,>=2.13.0->spacy<3.7.0,>=3.6.0->es-core-news-sm==3.6.0) (2023.11.17)\n",
            "Requirement already satisfied: blis<0.8.0,>=0.7.8 in /usr/local/lib/python3.10/dist-packages (from thinc<8.2.0,>=8.1.8->spacy<3.7.0,>=3.6.0->es-core-news-sm==3.6.0) (0.7.11)\n",
            "Requirement already satisfied: confection<1.0.0,>=0.0.1 in /usr/local/lib/python3.10/dist-packages (from thinc<8.2.0,>=8.1.8->spacy<3.7.0,>=3.6.0->es-core-news-sm==3.6.0) (0.1.4)\n",
            "Requirement already satisfied: click<9.0.0,>=7.1.1 in /usr/local/lib/python3.10/dist-packages (from typer<0.10.0,>=0.3.0->spacy<3.7.0,>=3.6.0->es-core-news-sm==3.6.0) (8.1.7)\n",
            "Requirement already satisfied: MarkupSafe>=2.0 in /usr/local/lib/python3.10/dist-packages (from jinja2->spacy<3.7.0,>=3.6.0->es-core-news-sm==3.6.0) (2.1.3)\n",
            "Installing collected packages: es-core-news-sm\n",
            "Successfully installed es-core-news-sm-3.6.0\n",
            "\u001b[38;5;2m✔ Download and installation successful\u001b[0m\n",
            "You can now load the package via spacy.load('es_core_news_sm')\n"
          ]
        }
      ]
    },
    {
      "cell_type": "code",
      "source": [
        "import spacy\n",
        "\n",
        "# Carga el modelo en español\n",
        "nlp = spacy.load(\"es_core_news_sm\")\n",
        "\n",
        "def extraer_eventos(texto):\n",
        "    # Procesa el texto con spaCy\n",
        "    doc = nlp(texto)\n",
        "\n",
        "    # Almacena eventos y personajes\n",
        "    eventos = []\n",
        "    personajes = set()\n",
        "\n",
        "    # Itera sobre las entidades reconocidas\n",
        "    for entidad in doc.ents:\n",
        "        if entidad.label_ == \"EVENTO\":\n",
        "            eventos.append(entidad.text)\n",
        "        elif entidad.label_ == \"PERSONAJE\":\n",
        "            personajes.add(entidad.text)\n",
        "\n",
        "    return eventos, list(personajes)\n",
        "\n",
        "# Ejemplo de texto (puedes proporcionar tu propio texto)\n",
        "texto_biblia = \"\"\"\n",
        "En el principio, Dios creó los cielos y la tierra. Y dijo Dios: \"Hágase la luz\".\n",
        "Abraham salió de Ur de los Caldeos y se dirigió a Canaán. En Canaán, nació Isaac,\n",
        "quien más tarde se casó con Rebeca. El diluvio ocurrió en los días de Noé, etc.\n",
        "\"\"\"\n",
        "\n",
        "# Llamada a la función para extraer eventos y personajes\n",
        "eventos, personajes = extraer_eventos(texto_biblia)\n",
        "\n",
        "# Imprime los resultados\n",
        "print(\"Eventos:\")\n",
        "for evento in eventos:\n",
        "    print(f\"- {evento}\")\n",
        "\n",
        "print(\"\\nPersonajes:\")\n",
        "for personaje in personajes:\n",
        "    print(f\"- {personaje}\")"
      ],
      "metadata": {
        "colab": {
          "base_uri": "https://localhost:8080/"
        },
        "id": "oqjlxbDY6gEK",
        "outputId": "d6f4cc9f-fbf3-4288-e1ab-2bc8a0538202"
      },
      "execution_count": 7,
      "outputs": [
        {
          "output_type": "stream",
          "name": "stdout",
          "text": [
            "Eventos:\n",
            "\n",
            "Personajes:\n"
          ]
        }
      ]
    },
    {
      "cell_type": "code",
      "source": [
        "import spacy\n",
        "\n",
        "# Cargar el modelo en español\n",
        "nlp = spacy.load(\"es_core_news_sm\")\n",
        "\n",
        "def extraer_eventos(texto):\n",
        "   # Procesa el texto con spaCy\n",
        "   doc = nlp(texto)\n",
        "\n",
        "   # Almacena eventos y personajes\n",
        "   eventos = []\n",
        "   personajes = set()\n",
        "\n",
        "   # Itera sobre las entidades reconocidas\n",
        "   for entidad in doc.ents:\n",
        "       if entidad.label_ == \"EVENTO\":\n",
        "           eventos.append(entidad.text)\n",
        "       elif entidad.label_ == \"PERSONAJE\":\n",
        "           personajes.add(entidad.text)\n",
        "\n",
        "   return eventos, list(personajes)\n",
        "\n",
        "# Ejemplo de texto (puedes proporcionar tu propio texto)\n",
        "texto_biblia = \"\"\"\n",
        "En el principio, Dios creó los cielos y la tierra. Y dijo Dios: \"Hágase la luz\".\n",
        "Abraham salió de Ur de los Caldeos y se dirigió a Canaán. En Canaán, nació Isaac,\n",
        "quien más tarde se casó con Rebeca. El diluvio ocurrió en los días de Noé, etc.\n",
        "\"\"\"\n",
        "\n",
        "# Llamada a la función para extraer eventos y personajes\n",
        "eventos, personajes = extraer_eventos(texto_biblia)\n",
        "\n",
        "# Imprime los resultados\n",
        "print(\"Eventos:\", eventos)\n",
        "print(\"Personajes:\", personajes)\n"
      ],
      "metadata": {
        "colab": {
          "base_uri": "https://localhost:8080/"
        },
        "id": "9FZlL1hO8k4a",
        "outputId": "4a77386b-1413-4a86-fed8-006bbe097fb4"
      },
      "execution_count": 8,
      "outputs": [
        {
          "output_type": "stream",
          "name": "stdout",
          "text": [
            "Eventos: []\n",
            "Personajes: []\n"
          ]
        }
      ]
    },
    {
      "cell_type": "code",
      "source": [
        "import spacy\n",
        "\n",
        "# Cargar el modelo en español\n",
        "nlp = spacy.load(\"es_core_news_sm\")\n",
        "\n",
        "def extraer_eventos_personajes(texto):\n",
        "    # Procesa el texto con spaCy\n",
        "    doc = nlp(texto)\n",
        "\n",
        "    # Almacena eventos y personajes\n",
        "    eventos = []\n",
        "    personajes = set()\n",
        "\n",
        "    # Itera sobre las entidades reconocidas\n",
        "    for entidad in doc.ents:\n",
        "        if entidad.label_ in [\"EVENTO\", \"PERSONAJE\"]:\n",
        "            if entidad.label_ == \"PER\":  # Etiqueta para personas en español\n",
        "                personajes.add(entidad.text)\n",
        "            elif entidad.label_ == \"LOC\":  # Etiqueta para ubicaciones en español\n",
        "                eventos.append(entidad.text)\n",
        "\n",
        "    return eventos, list(personajes)\n",
        "\n",
        "# Ejemplo de texto (puedes proporcionar tu propio texto)\n",
        "texto_biblia = \"\"\"\n",
        "En el principio, Dios creó los cielos y la tierra. Y dijo Dios: \"Hágase la luz\".\n",
        "Abraham salió de Ur de los Caldeos y se dirigió a Canaán. En Canaán, nació Isaac,\n",
        "quien más tarde se casó con Rebeca. El diluvio ocurrió en los días de Noé, etc.\n",
        "\"\"\"\n",
        "\n",
        "# Llamada a la función para extraer eventos y personajes\n",
        "eventos, personajes = extraer_eventos_personajes(texto_biblia)\n",
        "\n",
        "# Imprime los resultados\n",
        "print(\"Eventos:\", eventos)\n",
        "print(\"Personajes:\", personajes)\n"
      ],
      "metadata": {
        "colab": {
          "base_uri": "https://localhost:8080/"
        },
        "id": "cbS2R5et836X",
        "outputId": "a9d2decc-6867-4e40-85ce-f97a05d0281e"
      },
      "execution_count": 10,
      "outputs": [
        {
          "output_type": "stream",
          "name": "stdout",
          "text": [
            "Eventos: []\n",
            "Personajes: []\n"
          ]
        }
      ]
    },
    {
      "cell_type": "code",
      "source": [
        "import spacy\n",
        "\n",
        "# Cargar el modelo en español\n",
        "nlp = spacy.load(\"es_core_news_sm\")\n",
        "\n",
        "def extraer_entidades(texto):\n",
        "    # Procesa el texto con spaCy\n",
        "    doc = nlp(texto)\n",
        "\n",
        "    # Almacena entidades y sus etiquetas\n",
        "    entidades = [(entidad.text, entidad.label_) for entidad in doc.ents]\n",
        "\n",
        "    return entidades\n",
        "\n",
        "# Ejemplo de texto (puedes proporcionar tu propio texto)\n",
        "texto_biblia = \"\"\"\n",
        "En el principio, Dios creó los cielos y la tierra. Y dijo Dios: \"Hágase la luz\".\n",
        "Abraham salió de Ur de los Caldeos y se dirigió a Canaán. En Canaán, nació Isaac,\n",
        "quien más tarde se casó con Rebeca. El diluvio ocurrió en los días de Noé, etc.\n",
        "\"\"\"\n",
        "\n",
        "# Llamada a la función para extraer entidades\n",
        "entidades_detectadas = extraer_entidades(texto_biblia)\n",
        "\n",
        "# Imprime los resultados\n",
        "for entidad, etiqueta in entidades_detectadas:\n",
        "    print(f\"{entidad} - Etiqueta: {etiqueta}\")\n"
      ],
      "metadata": {
        "colab": {
          "base_uri": "https://localhost:8080/"
        },
        "id": "3DMzf5Az9PC5",
        "outputId": "57200ae5-81b0-44ba-ff7f-80644fbc7813"
      },
      "execution_count": 11,
      "outputs": [
        {
          "output_type": "stream",
          "name": "stdout",
          "text": [
            "Dios - Etiqueta: PER\n",
            "Dios - Etiqueta: PER\n",
            "Abraham - Etiqueta: PER\n",
            "Ur de los Caldeos - Etiqueta: LOC\n",
            "Canaán - Etiqueta: PER\n",
            "Canaán - Etiqueta: LOC\n",
            "Isaac - Etiqueta: PER\n",
            "Rebeca - Etiqueta: MISC\n",
            "El diluvio ocurrió - Etiqueta: MISC\n",
            "Noé - Etiqueta: MISC\n"
          ]
        }
      ]
    },
    {
      "cell_type": "code",
      "source": [
        "import spacy\n",
        "\n",
        "# Cargar el modelo en español\n",
        "nlp = spacy.load(\"es_core_news_sm\")\n",
        "\n",
        "def extraer_personajes_eventos(texto):\n",
        "    # Procesa el texto con spaCy\n",
        "    doc = nlp(texto)\n",
        "\n",
        "    # Almacena personajes y eventos\n",
        "    personajes = set()\n",
        "    eventos = []\n",
        "\n",
        "    # Itera sobre las entidades reconocidas\n",
        "    for entidad in doc.ents:\n",
        "        if entidad.label_ == \"PER\":\n",
        "            personajes.add(entidad.text)\n",
        "        elif entidad.label_ == \"LOC\":\n",
        "            eventos.append(entidad.text)\n",
        "        elif entidad.label_ == \"MISC\":\n",
        "            eventos.append(entidad.text)\n",
        "\n",
        "    return list(personajes), eventos\n",
        "\n",
        "# Ejemplo de texto (puedes proporcionar tu propio texto)\n",
        "texto_biblia = \"\"\"\n",
        "En el principio, Dios creó los cielos y la tierra. Y dijo Dios: \"Hágase la luz\".\n",
        "Abraham salió de Ur de los Caldeos y se dirigió a Canaán. En Canaán, nació Isaac,\n",
        "quien más tarde se casó con Rebeca. El diluvio ocurrió en los días de Noé, etc.\n",
        "\"\"\"\n",
        "\n",
        "# Llamada a la función para extraer personajes y eventos\n",
        "personajes, eventos = extraer_personajes_eventos(texto_biblia)\n",
        "\n",
        "# Imprime los resultados\n",
        "print(\"Personajes:\", personajes)\n",
        "print(\"Eventos:\", eventos)\n"
      ],
      "metadata": {
        "colab": {
          "base_uri": "https://localhost:8080/"
        },
        "id": "SU1E9fM192lX",
        "outputId": "228b9ad8-8d92-48ae-a5ef-4a4fc45880a5"
      },
      "execution_count": 12,
      "outputs": [
        {
          "output_type": "stream",
          "name": "stdout",
          "text": [
            "Personajes: ['Canaán', 'Abraham', 'Dios', 'Isaac']\n",
            "Eventos: ['Ur de los Caldeos', 'Canaán', 'Rebeca', 'El diluvio ocurrió', 'Noé']\n"
          ]
        }
      ]
    }
  ]
}