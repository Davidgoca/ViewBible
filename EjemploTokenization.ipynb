{
  "nbformat": 4,
  "nbformat_minor": 0,
  "metadata": {
    "colab": {
      "provenance": [],
      "authorship_tag": "ABX9TyN+ebvXPW1sw1MgOsf61UEx",
      "include_colab_link": true
    },
    "kernelspec": {
      "name": "python3",
      "display_name": "Python 3"
    },
    "language_info": {
      "name": "python"
    }
  },
  "cells": [
    {
      "cell_type": "markdown",
      "metadata": {
        "id": "view-in-github",
        "colab_type": "text"
      },
      "source": [
        "<a href=\"https://colab.research.google.com/github/Davidgoca/ViewBible/blob/main/EjemploTokenization.ipynb\" target=\"_parent\"><img src=\"https://colab.research.google.com/assets/colab-badge.svg\" alt=\"Open In Colab\"/></a>"
      ]
    },
    {
      "cell_type": "code",
      "source": [
        "!pip install spacy"
      ],
      "metadata": {
        "id": "WO17ERnBeyjE"
      },
      "execution_count": null,
      "outputs": []
    },
    {
      "cell_type": "code",
      "source": [
        "!python -m spacy download es_core_news_sm"
      ],
      "metadata": {
        "id": "eILFLqq9e7ln"
      },
      "execution_count": null,
      "outputs": []
    },
    {
      "cell_type": "code",
      "execution_count": 3,
      "metadata": {
        "colab": {
          "base_uri": "https://localhost:8080/"
        },
        "id": "8L2sp5poaWN2",
        "outputId": "8061985a-3f69-4b35-bc51-05bee340e031"
      },
      "outputs": [
        {
          "output_type": "stream",
          "name": "stdout",
          "text": [
            "['Estoy', 'volando', 'a', 'Frisco']\n"
          ]
        }
      ],
      "source": [
        "# EJEMPLO DE TOKENIZACION\n",
        "import spacy\n",
        "nlp = spacy.load('es_core_news_sm')\n",
        "doc = nlp(u'Estoy volando a Frisco')\n",
        "print([w.text for w in doc])\n",
        "\n"
      ]
    },
    {
      "cell_type": "code",
      "source": [
        "# EJEMPLO DE LEMATIZACION\n",
        "import spacy\n",
        "npl = spacy.load('es_core_news_sm')\n",
        "doc = nlp(u'este producto integra ambas bibliotecas para descargar y aplicar mejoras')\n",
        "for token in doc:\n",
        " print(token.text,token.lemma_)\n",
        ""
      ],
      "metadata": {
        "colab": {
          "base_uri": "https://localhost:8080/"
        },
        "id": "WWJC2ZZtr5-0",
        "outputId": "c5d1b164-6d13-4d21-d88a-e3a7d1983b10"
      },
      "execution_count": 5,
      "outputs": [
        {
          "output_type": "stream",
          "name": "stdout",
          "text": [
            "este este\n",
            "producto producto\n",
            "integra integro\n",
            "ambas ambos\n",
            "bibliotecas biblioteca\n",
            "para para\n",
            "descargar descargar\n",
            "y y\n",
            "aplicar aplicar\n",
            "mejoras mejora\n"
          ]
        }
      ]
    }
  ]
}